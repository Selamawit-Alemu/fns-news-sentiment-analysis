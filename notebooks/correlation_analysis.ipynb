{
 "cells": [
  {
   "cell_type": "code",
   "execution_count": 1,
   "id": "bea8b885-5c04-4778-aa61-7683c815e16c",
   "metadata": {},
   "outputs": [
    {
     "name": "stdout",
     "output_type": "stream",
     "text": [
      "Stock Data Sample:\n",
      "        Date      Open      High       Low     Close  Adj Close     Volume  \\\n",
      "0 1980-12-12  0.128348  0.128906  0.128348  0.128348   0.098943  469033600   \n",
      "1 1980-12-15  0.122210  0.122210  0.121652  0.121652   0.093781  175884800   \n",
      "2 1980-12-16  0.113281  0.113281  0.112723  0.112723   0.086898  105728000   \n",
      "3 1980-12-17  0.115513  0.116071  0.115513  0.115513   0.089049   86441600   \n",
      "4 1980-12-18  0.118862  0.119420  0.118862  0.118862   0.091630   73449600   \n",
      "\n",
      "   Dividends  Stock Splits  \n",
      "0        0.0           0.0  \n",
      "1        0.0           0.0  \n",
      "2        0.0           0.0  \n",
      "3        0.0           0.0  \n",
      "4        0.0           0.0  \n",
      "<class 'pandas.core.frame.DataFrame'>\n",
      "RangeIndex: 10998 entries, 0 to 10997\n",
      "Data columns (total 9 columns):\n",
      " #   Column        Non-Null Count  Dtype         \n",
      "---  ------        --------------  -----         \n",
      " 0   Date          10998 non-null  datetime64[ns]\n",
      " 1   Open          10998 non-null  float64       \n",
      " 2   High          10998 non-null  float64       \n",
      " 3   Low           10998 non-null  float64       \n",
      " 4   Close         10998 non-null  float64       \n",
      " 5   Adj Close     10998 non-null  float64       \n",
      " 6   Volume        10998 non-null  int64         \n",
      " 7   Dividends     10998 non-null  float64       \n",
      " 8   Stock Splits  10998 non-null  float64       \n",
      "dtypes: datetime64[ns](1), float64(7), int64(1)\n",
      "memory usage: 773.4 KB\n",
      "None\n",
      "\n",
      "News Data Sample:\n",
      "   Unnamed: 0                                           headline  \\\n",
      "0           0            Stocks That Hit 52-Week Highs On Friday   \n",
      "1           1         Stocks That Hit 52-Week Highs On Wednesday   \n",
      "2           2                      71 Biggest Movers From Friday   \n",
      "3           3       46 Stocks Moving In Friday's Mid-Day Session   \n",
      "4           4  B of A Securities Maintains Neutral on Agilent...   \n",
      "\n",
      "                                                 url          publisher  \\\n",
      "0  https://www.benzinga.com/news/20/06/16190091/s...  Benzinga Insights   \n",
      "1  https://www.benzinga.com/news/20/06/16170189/s...  Benzinga Insights   \n",
      "2  https://www.benzinga.com/news/20/05/16103463/7...         Lisa Levin   \n",
      "3  https://www.benzinga.com/news/20/05/16095921/4...         Lisa Levin   \n",
      "4  https://www.benzinga.com/news/20/05/16095304/b...         Vick Meyer   \n",
      "\n",
      "                        date stock  \n",
      "0  2020-06-05 10:30:54-04:00     A  \n",
      "1  2020-06-03 10:45:20-04:00     A  \n",
      "2  2020-05-26 04:30:07-04:00     A  \n",
      "3  2020-05-22 12:45:06-04:00     A  \n",
      "4  2020-05-22 11:38:59-04:00     A  \n",
      "<class 'pandas.core.frame.DataFrame'>\n",
      "RangeIndex: 1407328 entries, 0 to 1407327\n",
      "Data columns (total 6 columns):\n",
      " #   Column      Non-Null Count    Dtype \n",
      "---  ------      --------------    ----- \n",
      " 0   Unnamed: 0  1407328 non-null  int64 \n",
      " 1   headline    1407328 non-null  object\n",
      " 2   url         1407328 non-null  object\n",
      " 3   publisher   1407328 non-null  object\n",
      " 4   date        1407328 non-null  object\n",
      " 5   stock       1407328 non-null  object\n",
      "dtypes: int64(1), object(5)\n",
      "memory usage: 64.4+ MB\n",
      "None\n"
     ]
    }
   ],
   "source": [
    "# task_3_correlation_analysis.ipynb\n",
    "\n",
    "import pandas as pd\n",
    "\n",
    "# Load stock price data CSV\n",
    "stock_csv_path = '../data/yfinance_data/AAPL_historical_data.csv'  # Change path & filename as needed\n",
    "stock_df = pd.read_csv(stock_csv_path, parse_dates=['Date'])\n",
    "\n",
    "# Load news headlines data CSV\n",
    "news_csv_path = '../data/raw_analyst_ratings.csv'  # Change path & filename as needed\n",
    "news_df = pd.read_csv(news_csv_path, parse_dates=['date'])  # Adjust column name if needed\n",
    "\n",
    "# Inspect stock data\n",
    "print(\"Stock Data Sample:\")\n",
    "print(stock_df.head())\n",
    "print(stock_df.info())\n",
    "\n",
    "# Inspect news data\n",
    "print(\"\\nNews Data Sample:\")\n",
    "print(news_df.head())\n",
    "print(news_df.info())\n"
   ]
  },
  {
   "cell_type": "code",
   "execution_count": 6,
   "id": "22134920-2968-4894-b40e-406c889cdd94",
   "metadata": {},
   "outputs": [
    {
     "name": "stdout",
     "output_type": "stream",
     "text": [
      "Stock date range: 1980-12-12 to 2024-07-30\n",
      "News date range: 2009-02-14 to 2020-06-11\n",
      "Filtered news rows: 1379646\n"
     ]
    }
   ],
   "source": [
    "# Normalize dates by setting to date only (drop time if any)\n",
    "stock_df['Date'] = pd.to_datetime(stock_df['Date']).dt.date\n",
    "news_df['date'] = pd.to_datetime(news_df['date']).dt.date\n",
    "\n",
    "# Check date ranges and overlap\n",
    "print(\"Stock date range:\", stock_df['Date'].min(), \"to\", stock_df['Date'].max())\n",
    "print(\"News date range:\", news_df['date'].min(), \"to\", news_df['date'].max())\n",
    "\n",
    "# Filter news to only dates available in stock data (optional but cleaner)\n",
    "news_df = news_df[news_df['date'].isin(stock_df['Date'])]\n",
    "\n",
    "print(f\"Filtered news rows: {len(news_df)}\")\n"
   ]
  },
  {
   "cell_type": "code",
   "execution_count": 5,
   "id": "84deeec8-2ae0-4208-a332-8c4760665b25",
   "metadata": {},
   "outputs": [
    {
     "name": "stdout",
     "output_type": "stream",
     "text": [
      "Rows with invalid date format: 0\n"
     ]
    }
   ],
   "source": [
    "news_df['date'] = pd.to_datetime(news_df['date'], errors='coerce', format='ISO8601').dt.date\n",
    "\n",
    "# Check for any rows where parsing failed (NaT became NaN after dt.date)\n",
    "missing_dates = news_df[news_df['date'].isna()]\n",
    "print(f\"Rows with invalid date format: {len(missing_dates)}\")\n",
    "if not missing_dates.empty:\n",
    "    print(missing_dates)\n",
    "\n",
    "# Optionally drop those rows\n",
    "news_df = news_df.dropna(subset=['date'])\n"
   ]
  },
  {
   "cell_type": "code",
   "execution_count": 7,
   "id": "dc88c412-d4c3-4304-887a-c30d7cd22e4f",
   "metadata": {},
   "outputs": [
    {
     "name": "stdout",
     "output_type": "stream",
     "text": [
      "Stock date range: 1980-12-12 to 2024-07-30\n",
      "News date range: 2009-04-27 to 2020-06-11\n",
      "Overlap period: 2009-04-27 to 2020-06-11\n"
     ]
    }
   ],
   "source": [
    "# Confirm normalized date columns\n",
    "stock_df['Date'] = pd.to_datetime(stock_df['Date']).dt.date\n",
    "news_df['date'] = pd.to_datetime(news_df['date']).dt.date\n",
    "\n",
    "# Check date ranges\n",
    "print(\"Stock date range:\", stock_df['Date'].min(), \"to\", stock_df['Date'].max())\n",
    "print(\"News date range:\", news_df['date'].min(), \"to\", news_df['date'].max())\n",
    "\n",
    "# Check overlap period for analysis\n",
    "start_date = max(stock_df['Date'].min(), news_df['date'].min())\n",
    "end_date = min(stock_df['Date'].max(), news_df['date'].max())\n",
    "print(\"Overlap period:\", start_date, \"to\", end_date)\n"
   ]
  },
  {
   "cell_type": "code",
   "execution_count": null,
   "id": "2fbb6f69-745e-4428-a4d2-76884309d4ec",
   "metadata": {},
   "outputs": [],
   "source": [
    "from textblob import TextBlob\n",
    "\n",
    "# Function to calculate sentiment polarity (-1 to 1)\n",
    "def get_sentiment(text):\n",
    "    return TextBlob(text).sentiment.polarity\n",
    "\n",
    "# Apply sentiment function to news headlines column (replace 'headline' with your actual column name)\n",
    "news_df['sentiment'] = news_df['headline'].apply(get_sentiment)\n",
    "\n",
    "# Preview sentiment scores\n",
    "print(news_df[['date', 'headline', 'sentiment']].head())\n"
   ]
  },
  {
   "cell_type": "code",
   "execution_count": 3,
   "id": "40d33d30-20c1-4ef4-9139-9398f067d57a",
   "metadata": {},
   "outputs": [
    {
     "name": "stdout",
     "output_type": "stream",
     "text": [
      "                        date  \\\n",
      "0  2020-06-05 10:30:54-04:00   \n",
      "1  2020-06-03 10:45:20-04:00   \n",
      "2  2020-05-26 04:30:07-04:00   \n",
      "3  2020-05-22 12:45:06-04:00   \n",
      "4  2020-05-22 11:38:59-04:00   \n",
      "\n",
      "                                            headline  sentiment  \n",
      "0            Stocks That Hit 52-Week Highs On Friday        0.0  \n",
      "1         Stocks That Hit 52-Week Highs On Wednesday        0.0  \n",
      "2                      71 Biggest Movers From Friday        0.0  \n",
      "3       46 Stocks Moving In Friday's Mid-Day Session        0.0  \n",
      "4  B of A Securities Maintains Neutral on Agilent...        0.0  \n"
     ]
    }
   ],
   "source": [
    "from textblob import TextBlob\n",
    "\n",
    "# Define a function to get sentiment polarity (-1 to 1)\n",
    "def get_sentiment(text):\n",
    "    try:\n",
    "        return TextBlob(text).sentiment.polarity\n",
    "    except:\n",
    "        return 0  # If any error, assign neutral sentiment\n",
    "\n",
    "# Test sentiment on first 500 headlines for faster run\n",
    "sample_news = news_df.head(500).copy()\n",
    "sample_news['sentiment'] = sample_news['headline'].apply(get_sentiment)\n",
    "\n",
    "print(sample_news[['date', 'headline', 'sentiment']].head())\n"
   ]
  },
  {
   "cell_type": "code",
   "execution_count": 4,
   "id": "76555cce-b911-4b43-a173-a59df10fdba1",
   "metadata": {},
   "outputs": [
    {
     "name": "stdout",
     "output_type": "stream",
     "text": [
      "Headline: Apple stock soars after amazing earnings report\n",
      "Sentiment: 0.6000000000000001\n",
      "\n",
      "Headline: Market tumbles as recession fears grow\n",
      "Sentiment: 0.0\n",
      "\n",
      "Headline: Company X announces neutral quarterly results\n",
      "Sentiment: 0.0\n",
      "\n",
      "Headline: Investors optimistic about future growth\n",
      "Sentiment: 0.0\n",
      "\n"
     ]
    }
   ],
   "source": [
    "test_headlines = [\n",
    "    \"Apple stock soars after amazing earnings report\",\n",
    "    \"Market tumbles as recession fears grow\",\n",
    "    \"Company X announces neutral quarterly results\",\n",
    "    \"Investors optimistic about future growth\"\n",
    "]\n",
    "\n",
    "for h in test_headlines:\n",
    "    print(f\"Headline: {h}\")\n",
    "    print(f\"Sentiment: {get_sentiment(h)}\\n\")\n"
   ]
  },
  {
   "cell_type": "code",
   "execution_count": 5,
   "id": "afe382b0-a172-442a-8429-e452fb9ca6c2",
   "metadata": {},
   "outputs": [
    {
     "name": "stderr",
     "output_type": "stream",
     "text": [
      "[nltk_data] Downloading package vader_lexicon to\n",
      "[nltk_data]     C:\\Users\\selam\\AppData\\Roaming\\nltk_data...\n"
     ]
    },
    {
     "name": "stdout",
     "output_type": "stream",
     "text": [
      "                                            headline  vader_sentiment\n",
      "0            Stocks That Hit 52-Week Highs On Friday            0.000\n",
      "1         Stocks That Hit 52-Week Highs On Wednesday            0.000\n",
      "2                      71 Biggest Movers From Friday            0.000\n",
      "3       46 Stocks Moving In Friday's Mid-Day Session            0.000\n",
      "4  B of A Securities Maintains Neutral on Agilent...            0.296\n"
     ]
    }
   ],
   "source": [
    "from nltk.sentiment import SentimentIntensityAnalyzer\n",
    "import nltk\n",
    "nltk.download('vader_lexicon')\n",
    "\n",
    "sia = SentimentIntensityAnalyzer()\n",
    "\n",
    "def get_vader_sentiment(text):\n",
    "    return sia.polarity_scores(text)['compound']\n",
    "\n",
    "sample_news['vader_sentiment'] = sample_news['headline'].apply(get_vader_sentiment)\n",
    "\n",
    "print(sample_news[['headline', 'vader_sentiment']].head())\n"
   ]
  },
  {
   "cell_type": "code",
   "execution_count": 8,
   "id": "f85a58b3-f3fa-41ce-bc27-341294ed6413",
   "metadata": {},
   "outputs": [
    {
     "name": "stdout",
     "output_type": "stream",
     "text": [
      "         date  vader_sentiment\n",
      "0  2020-05-22            0.048\n",
      "1  2020-05-26            0.000\n",
      "2  2020-06-03            0.000\n",
      "3  2020-06-05            0.000\n"
     ]
    }
   ],
   "source": [
    "dates = sample_news['date'].astype(str)\n",
    "\n",
    "# Try parsing with utc=True (for timezone-aware)\n",
    "dates_utc = pd.to_datetime(dates, errors='coerce', utc=True)\n",
    "\n",
    "# For any NaT (failed), parse again without utc (naive datetimes)\n",
    "dates_naive = pd.to_datetime(dates, errors='coerce')\n",
    "\n",
    "# Combine: Use dates_utc if not NaT, else dates_naive\n",
    "final_dates = dates_utc.fillna(dates_naive)\n",
    "\n",
    "# Remove timezone info if present\n",
    "final_dates = final_dates.dt.tz_localize(None)\n",
    "\n",
    "# Extract date only\n",
    "sample_news['date'] = final_dates.dt.date\n",
    "\n",
    "# Now group by date\n",
    "daily_sentiment = sample_news.groupby('date')['vader_sentiment'].mean().reset_index()\n",
    "\n",
    "print(daily_sentiment.head())\n",
    "\n"
   ]
  },
  {
   "cell_type": "code",
   "execution_count": 9,
   "id": "11b12074-35f3-457c-b81e-86a5f59979a4",
   "metadata": {},
   "outputs": [
    {
     "name": "stdout",
     "output_type": "stream",
     "text": [
      "         Date      Close  vader_sentiment\n",
      "0  2020-05-22  79.722504            0.048\n",
      "1  2020-05-26  79.182503            0.000\n",
      "2  2020-06-03  81.279999            0.000\n",
      "3  2020-06-05  82.875000            0.000\n"
     ]
    }
   ],
   "source": [
    "# Ensure stock_df Date is datetime.date as well\n",
    "stock_df['Date'] = pd.to_datetime(stock_df['Date']).dt.date\n",
    "\n",
    "# Merge on date, left join to keep stock dates (or inner join if you want only overlapping dates)\n",
    "merged_df = pd.merge(stock_df, daily_sentiment, how='inner', left_on='Date', right_on='date')\n",
    "\n",
    "# Check the merged data\n",
    "print(merged_df[['Date', 'Close', 'vader_sentiment']].head())\n"
   ]
  },
  {
   "cell_type": "code",
   "execution_count": 10,
   "id": "b6171aa6-7942-4ebf-baab-cbe179961dee",
   "metadata": {},
   "outputs": [
    {
     "name": "stdout",
     "output_type": "stream",
     "text": [
      "Correlation between daily returns and sentiment: nan\n"
     ]
    },
    {
     "name": "stderr",
     "output_type": "stream",
     "text": [
      "S:\\AI MAstery\\fns-news-sentiment-analysis\\venv\\Lib\\site-packages\\numpy\\lib\\function_base.py:2897: RuntimeWarning: invalid value encountered in divide\n",
      "  c /= stddev[:, None]\n",
      "S:\\AI MAstery\\fns-news-sentiment-analysis\\venv\\Lib\\site-packages\\numpy\\lib\\function_base.py:2898: RuntimeWarning: invalid value encountered in divide\n",
      "  c /= stddev[None, :]\n"
     ]
    }
   ],
   "source": [
    "# Calculate daily returns as percentage change in 'Close' price\n",
    "merged_df['daily_return'] = merged_df['Close'].pct_change()\n",
    "\n",
    "# Drop the first row with NaN daily return\n",
    "merged_df = merged_df.dropna(subset=['daily_return'])\n",
    "\n",
    "# Calculate correlation between daily returns and sentiment\n",
    "correlation = merged_df['daily_return'].corr(merged_df['vader_sentiment'])\n",
    "\n",
    "print(f\"Correlation between daily returns and sentiment: {correlation:.4f}\")\n"
   ]
  },
  {
   "cell_type": "code",
   "execution_count": 11,
   "id": "bf79e0e7-2253-4522-b1b8-2c0f3608eb33",
   "metadata": {},
   "outputs": [
    {
     "name": "stdout",
     "output_type": "stream",
     "text": [
      "daily_return       0\n",
      "vader_sentiment    0\n",
      "dtype: int64\n"
     ]
    }
   ],
   "source": [
    "print(merged_df[['daily_return', 'vader_sentiment']].isna().sum())\n"
   ]
  },
  {
   "cell_type": "code",
   "execution_count": 12,
   "id": "029144fa-2cd3-4ce9-b504-9c4ea4a6c331",
   "metadata": {},
   "outputs": [
    {
     "name": "stdout",
     "output_type": "stream",
     "text": [
      "daily_return std: 0.017561150609073636\n",
      "vader_sentiment std: 0.0\n"
     ]
    }
   ],
   "source": [
    "print(\"daily_return std:\", merged_df['daily_return'].std())\n",
    "print(\"vader_sentiment std:\", merged_df['vader_sentiment'].std())\n"
   ]
  },
  {
   "cell_type": "code",
   "execution_count": 13,
   "id": "1d0dffad-e99b-4cf1-b39d-1ce3fcdb6528",
   "metadata": {},
   "outputs": [
    {
     "name": "stdout",
     "output_type": "stream",
     "text": [
      "Rows after dropping NaNs: 3\n",
      "Correlation between daily returns and sentiment: nan\n"
     ]
    },
    {
     "name": "stderr",
     "output_type": "stream",
     "text": [
      "S:\\AI MAstery\\fns-news-sentiment-analysis\\venv\\Lib\\site-packages\\numpy\\lib\\function_base.py:2897: RuntimeWarning: invalid value encountered in divide\n",
      "  c /= stddev[:, None]\n",
      "S:\\AI MAstery\\fns-news-sentiment-analysis\\venv\\Lib\\site-packages\\numpy\\lib\\function_base.py:2898: RuntimeWarning: invalid value encountered in divide\n",
      "  c /= stddev[None, :]\n"
     ]
    }
   ],
   "source": [
    "clean_df = merged_df.dropna(subset=['daily_return', 'vader_sentiment'])\n",
    "\n",
    "print(f\"Rows after dropping NaNs: {len(clean_df)}\")\n",
    "\n",
    "correlation = clean_df['daily_return'].corr(clean_df['vader_sentiment'])\n",
    "print(f\"Correlation between daily returns and sentiment: {correlation:.4f}\")\n"
   ]
  },
  {
   "cell_type": "code",
   "execution_count": 14,
   "id": "045a0801-3b1f-4885-9731-1d031670874e",
   "metadata": {},
   "outputs": [
    {
     "name": "stdout",
     "output_type": "stream",
     "text": [
      "count    500.000000\n",
      "mean       0.044292\n",
      "std        0.253158\n",
      "min       -0.812600\n",
      "25%        0.000000\n",
      "50%        0.000000\n",
      "75%        0.000000\n",
      "max        0.855500\n",
      "Name: vader_sentiment, dtype: float64\n"
     ]
    }
   ],
   "source": [
    "print(sample_news['vader_sentiment'].describe())\n"
   ]
  },
  {
   "cell_type": "code",
   "execution_count": 15,
   "id": "bfd50819-4676-42a4-90ad-4e77025001b2",
   "metadata": {},
   "outputs": [
    {
     "name": "stdout",
     "output_type": "stream",
     "text": [
      "3\n",
      "Rows with non-zero sentiment: 0\n",
      "Correlation between daily returns and sentiment (non-zero sentiment): nan\n"
     ]
    }
   ],
   "source": [
    "# After merging with stock returns, check number of rows:\n",
    "print(len(merged_df))\n",
    "\n",
    "# Filter rows where vader_sentiment != 0 (optional):\n",
    "filtered_df = merged_df[merged_df['vader_sentiment'] != 0]\n",
    "\n",
    "print(f\"Rows with non-zero sentiment: {len(filtered_df)}\")\n",
    "\n",
    "correlation = filtered_df['daily_return'].corr(filtered_df['vader_sentiment'])\n",
    "print(f\"Correlation between daily returns and sentiment (non-zero sentiment): {correlation:.4f}\")\n"
   ]
  },
  {
   "cell_type": "code",
   "execution_count": 25,
   "id": "92270719-b1bc-47c3-8040-28dba4058464",
   "metadata": {},
   "outputs": [],
   "source": [
    "# Convert both date columns to date only (no time)\n",
    "news_df['date'] = pd.to_datetime(news_df['date']).dt.date\n",
    "stock_df['Date'] = pd.to_datetime(stock_df['Date']).dt.date\n"
   ]
  },
  {
   "cell_type": "code",
   "execution_count": 17,
   "id": "00c73fbc-dc29-4df8-9e64-fb6dadbb0e69",
   "metadata": {},
   "outputs": [
    {
     "name": "stdout",
     "output_type": "stream",
     "text": [
      "0    2020-06-05 10:30:54-04:00\n",
      "1    2020-06-03 10:45:20-04:00\n",
      "2    2020-05-26 04:30:07-04:00\n",
      "3    2020-05-22 12:45:06-04:00\n",
      "4    2020-05-22 11:38:59-04:00\n",
      "5    2020-05-22 11:23:25-04:00\n",
      "6    2020-05-22 09:36:20-04:00\n",
      "7    2020-05-22 09:07:04-04:00\n",
      "8    2020-05-22 08:37:59-04:00\n",
      "9    2020-05-22 08:06:17-04:00\n",
      "Name: date, dtype: object\n",
      "date\n",
      "<class 'str'>    1407328\n",
      "Name: count, dtype: int64\n",
      "0\n"
     ]
    }
   ],
   "source": [
    "print(news_df['date'].head(10))\n",
    "print(news_df['date'].apply(type).value_counts())\n",
    "print(news_df['date'].isnull().sum())\n"
   ]
  },
  {
   "cell_type": "code",
   "execution_count": 18,
   "id": "469bbb37-db36-40ba-ada2-127bbc5f98cd",
   "metadata": {},
   "outputs": [],
   "source": [
    "news_df['date'] = news_df['date'].astype(str)\n"
   ]
  },
  {
   "cell_type": "code",
   "execution_count": 19,
   "id": "99bad22d-3ced-4a36-aefe-c71b0a3e8a61",
   "metadata": {},
   "outputs": [],
   "source": [
    "news_df['date'] = pd.to_datetime(news_df['date'], errors='coerce')\n"
   ]
  },
  {
   "cell_type": "code",
   "execution_count": 20,
   "id": "5023c639-8168-42d6-acc7-65a978e3da88",
   "metadata": {},
   "outputs": [
    {
     "name": "stdout",
     "output_type": "stream",
     "text": [
      "1351341\n"
     ]
    }
   ],
   "source": [
    "print(news_df['date'].isnull().sum())\n"
   ]
  },
  {
   "cell_type": "code",
   "execution_count": 21,
   "id": "4f24f7d9-571d-45d4-b1bd-d29a15aa80b7",
   "metadata": {},
   "outputs": [],
   "source": [
    "news_df = news_df.dropna(subset=['date'])\n"
   ]
  },
  {
   "cell_type": "code",
   "execution_count": 22,
   "id": "0a0a2096-d168-49b7-b7bb-edd98c689af0",
   "metadata": {},
   "outputs": [],
   "source": [
    "news_df['date'] = news_df['date'].dt.date\n"
   ]
  },
  {
   "cell_type": "code",
   "execution_count": 23,
   "id": "f08c1170-b07e-400e-9bcc-7feedd86e751",
   "metadata": {},
   "outputs": [],
   "source": [
    "# Convert to string first (unify formats)\n",
    "news_df['date'] = news_df['date'].astype(str)\n",
    "\n",
    "# Parse datetime, coercing errors to NaT\n",
    "news_df['date'] = pd.to_datetime(news_df['date'], errors='coerce')\n",
    "\n",
    "# Drop rows with invalid dates\n",
    "news_df = news_df.dropna(subset=['date'])\n",
    "\n",
    "# Convert datetime to date only (remove time)\n",
    "news_df['date'] = news_df['date'].dt.date\n"
   ]
  },
  {
   "cell_type": "code",
   "execution_count": 24,
   "id": "bcad8c51-51c5-44c8-81d0-86abd2005102",
   "metadata": {},
   "outputs": [],
   "source": [
    "# Parse strings to timezone-aware datetime\n",
    "news_df['date'] = pd.to_datetime(news_df['date'], utc=True)\n",
    "\n",
    "# Convert to timezone-naive (remove tz info)\n",
    "news_df['date'] = news_df['date'].dt.tz_localize(None)\n",
    "\n",
    "# Strip time, keeping only the date\n",
    "news_df['date'] = news_df['date'].dt.date\n"
   ]
  },
  {
   "cell_type": "code",
   "execution_count": 34,
   "id": "a3296e16-824e-47d5-8950-9cd21d5172de",
   "metadata": {},
   "outputs": [
    {
     "name": "stdout",
     "output_type": "stream",
     "text": [
      "Index(['Unnamed: 0', 'headline', 'url', 'publisher', 'date', 'stock',\n",
      "       'vader_sentiment'],\n",
      "      dtype='object')\n"
     ]
    }
   ],
   "source": [
    "print(news_df.columns)\n",
    "\n"
   ]
  },
  {
   "cell_type": "code",
   "execution_count": 35,
   "id": "9638247a-3ad9-4a77-bc4d-1710b192c5b4",
   "metadata": {},
   "outputs": [],
   "source": [
    "from vaderSentiment.vaderSentiment import SentimentIntensityAnalyzer\n",
    "\n",
    "analyzer = SentimentIntensityAnalyzer()\n",
    "\n",
    "# Apply sentiment analysis to each headline\n",
    "news_df['vader_sentiment'] = news_df['headline'].apply(lambda x: analyzer.polarity_scores(str(x))['compound'])\n",
    "\n"
   ]
  },
  {
   "cell_type": "code",
   "execution_count": 37,
   "id": "ae949bb4-762a-42f4-813c-7e443f1e0a50",
   "metadata": {},
   "outputs": [],
   "source": [
    "# Convert date to datetime and strip time\n",
    "news_df['date'] = pd.to_datetime(news_df['date']).dt.date\n",
    "\n",
    "# Group by date to get average daily sentiment\n",
    "daily_sentiment = news_df.groupby('date')['vader_sentiment'].mean().reset_index()\n"
   ]
  },
  {
   "cell_type": "code",
   "execution_count": 52,
   "id": "70819a8b-1d49-48fa-8a0a-8bf2605f54c5",
   "metadata": {},
   "outputs": [
    {
     "name": "stdout",
     "output_type": "stream",
     "text": [
      ".ipynb_checkpoints\n",
      "AAPL_historical_data.csv\n",
      "AMZN_historical_data.csv\n",
      "GOOG_historical_data.csv\n",
      "META_historical_data.csv\n",
      "MSFT_historical_data.csv\n",
      "NVDA_historical_data.csv\n",
      "TSLA_historical_data.csv\n"
     ]
    }
   ],
   "source": [
    "import os\n",
    "\n",
    "stock_folder = '../data/yfinance_data'  # Just the folder, no wildcard\n",
    "\n",
    "# List all files inside the folder\n",
    "for file in os.listdir(stock_folder):\n",
    "    print(file)\n"
   ]
  },
  {
   "cell_type": "code",
   "execution_count": 53,
   "id": "f0c12ffd-cb67-453c-9ff6-b520e35cbe5b",
   "metadata": {},
   "outputs": [
    {
     "name": "stdout",
     "output_type": "stream",
     "text": [
      "['../data/yfinance_data\\\\AAPL_historical_data.csv', '../data/yfinance_data\\\\AMZN_historical_data.csv', '../data/yfinance_data\\\\GOOG_historical_data.csv', '../data/yfinance_data\\\\META_historical_data.csv', '../data/yfinance_data\\\\MSFT_historical_data.csv', '../data/yfinance_data\\\\NVDA_historical_data.csv', '../data/yfinance_data\\\\TSLA_historical_data.csv']\n"
     ]
    }
   ],
   "source": [
    "import glob\n",
    "\n",
    "search_path = os.path.join(stock_folder, \"*_historical_data.csv\")\n",
    "stock_files = glob.glob(search_path)\n",
    "print(stock_files)\n"
   ]
  },
  {
   "cell_type": "code",
   "execution_count": 55,
   "id": "cad4d495-7bff-41a1-aa0c-e1011c2cd95f",
   "metadata": {},
   "outputs": [
    {
     "name": "stdout",
     "output_type": "stream",
     "text": [
      "Found 7 stock files.\n",
      "        Date stock     Close  daily_return\n",
      "1 1980-12-15  AAPL  0.121652     -0.052171\n",
      "2 1980-12-16  AAPL  0.112723     -0.073398\n",
      "3 1980-12-17  AAPL  0.115513      0.024751\n",
      "4 1980-12-18  AAPL  0.118862      0.028992\n",
      "5 1980-12-19  AAPL  0.126116      0.061029\n"
     ]
    }
   ],
   "source": [
    "import os\n",
    "import glob\n",
    "import pandas as pd\n",
    "\n",
    "# Define folder and search path\n",
    "stock_folder = '../data/yfinance_data'\n",
    "search_path = os.path.join(stock_folder, '*_historical_data.csv')\n",
    "\n",
    "# Find stock CSV files\n",
    "stock_files = glob.glob(search_path)\n",
    "print(f\"Found {len(stock_files)} stock files.\")\n",
    "\n",
    "# Load and process stock data\n",
    "stock_dfs = []\n",
    "for file in stock_files:\n",
    "    df = pd.read_csv(file)\n",
    "    df['Date'] = pd.to_datetime(df['Date'])\n",
    "    df['stock'] = os.path.basename(file).split('_')[0]  # Extract stock symbol\n",
    "    df['daily_return'] = df['Close'].pct_change()\n",
    "    stock_dfs.append(df)\n",
    "\n",
    "# Concatenate all stocks into one DataFrame\n",
    "stock_all = pd.concat(stock_dfs, ignore_index=True)\n",
    "stock_all.dropna(subset=['daily_return'], inplace=True)\n",
    "\n",
    "# Preview result\n",
    "print(stock_all[['Date', 'stock', 'Close', 'daily_return']].head())\n"
   ]
  },
  {
   "cell_type": "code",
   "execution_count": 60,
   "id": "ea838392-754a-4511-a237-169d711caaef",
   "metadata": {},
   "outputs": [
    {
     "name": "stdout",
     "output_type": "stream",
     "text": [
      "                  Date stock  sentiment\n",
      "0  2009-02-14 00:00:00   NAV     0.2263\n",
      "1  2009-04-27 00:00:00    FT     0.0000\n",
      "2  2009-04-27 00:00:00     Y     0.0000\n",
      "3  2009-04-29 00:00:00     A     0.0000\n",
      "4  2009-05-22 00:00:00    AM     0.0000\n"
     ]
    }
   ],
   "source": [
    "from vaderSentiment.vaderSentiment import SentimentIntensityAnalyzer\n",
    "\n",
    "analyzer = SentimentIntensityAnalyzer()\n",
    "news_df['sentiment'] = news_df['headline'].apply(lambda x: analyzer.polarity_scores(str(x))['compound'])\n",
    "\n",
    "daily_sentiment = news_df.groupby(['date', 'stock'])['sentiment'].mean().reset_index()\n",
    "daily_sentiment.rename(columns={'date': 'Date'}, inplace=True)\n",
    "\n",
    "print(daily_sentiment.head())\n"
   ]
  },
  {
   "cell_type": "code",
   "execution_count": 61,
   "id": "3292a2bc-3405-4712-a908-a732d70970c4",
   "metadata": {},
   "outputs": [
    {
     "name": "stdout",
     "output_type": "stream",
     "text": [
      "                       date                                           headline\n",
      "0 2020-06-05 10:30:54-04:00            Stocks That Hit 52-Week Highs On Friday\n",
      "1 2020-06-03 10:45:20-04:00         Stocks That Hit 52-Week Highs On Wednesday\n",
      "2 2020-05-26 04:30:07-04:00                      71 Biggest Movers From Friday\n",
      "3 2020-05-22 12:45:06-04:00       46 Stocks Moving In Friday's Mid-Day Session\n",
      "4 2020-05-22 11:38:59-04:00  B of A Securities Maintains Neutral on Agilent...\n"
     ]
    }
   ],
   "source": [
    "import pandas as pd\n",
    "\n",
    "# Load news\n",
    "news_df = pd.read_csv('../data/raw_analyst_ratings.csv')\n",
    "\n",
    "# Fix date parsing safely\n",
    "news_df['date'] = pd.to_datetime(news_df['date'], errors='coerce')\n",
    "news_df.dropna(subset=['date'], inplace=True)\n",
    "\n",
    "print(news_df[['date', 'headline']].head())\n"
   ]
  },
  {
   "cell_type": "code",
   "execution_count": 62,
   "id": "87b7397a-51cd-4220-8286-cbde4721aef1",
   "metadata": {},
   "outputs": [
    {
     "name": "stderr",
     "output_type": "stream",
     "text": [
      "[nltk_data] Downloading package vader_lexicon to\n",
      "[nltk_data]     C:\\Users\\selam\\AppData\\Roaming\\nltk_data...\n",
      "[nltk_data]   Package vader_lexicon is already up-to-date!\n"
     ]
    },
    {
     "name": "stdout",
     "output_type": "stream",
     "text": [
      "                       date  \\\n",
      "0 2020-06-05 10:30:54-04:00   \n",
      "1 2020-06-03 10:45:20-04:00   \n",
      "2 2020-05-26 04:30:07-04:00   \n",
      "3 2020-05-22 12:45:06-04:00   \n",
      "4 2020-05-22 11:38:59-04:00   \n",
      "\n",
      "                                            headline  sentiment  \n",
      "0            Stocks That Hit 52-Week Highs On Friday      0.000  \n",
      "1         Stocks That Hit 52-Week Highs On Wednesday      0.000  \n",
      "2                      71 Biggest Movers From Friday      0.000  \n",
      "3       46 Stocks Moving In Friday's Mid-Day Session      0.000  \n",
      "4  B of A Securities Maintains Neutral on Agilent...      0.296  \n"
     ]
    }
   ],
   "source": [
    "from nltk.sentiment.vader import SentimentIntensityAnalyzer\n",
    "import nltk\n",
    "\n",
    "# Download VADER lexicon if not already present\n",
    "nltk.download('vader_lexicon')\n",
    "\n",
    "# Initialize VADER\n",
    "analyzer = SentimentIntensityAnalyzer()\n",
    "\n",
    "# Apply VADER to headlines\n",
    "news_df['sentiment'] = news_df['headline'].apply(lambda x: analyzer.polarity_scores(x)['compound'])\n",
    "\n",
    "# Preview\n",
    "print(news_df[['date', 'headline', 'sentiment']].head())\n"
   ]
  },
  {
   "cell_type": "code",
   "execution_count": 63,
   "id": "01cd85ac-0f15-4ccc-b268-2d2ba45b996f",
   "metadata": {},
   "outputs": [
    {
     "name": "stdout",
     "output_type": "stream",
     "text": [
      "         Date  avg_sentiment\n",
      "0  2011-04-27        0.00000\n",
      "1  2011-04-28        0.12500\n",
      "2  2011-04-29        0.36755\n",
      "3  2011-04-30        0.20230\n",
      "4  2011-05-01        0.00000\n"
     ]
    }
   ],
   "source": [
    "# Drop time info and keep only the date\n",
    "news_df['date_only'] = pd.to_datetime(news_df['date']).dt.date\n",
    "\n",
    "# Group by date and calculate average sentiment\n",
    "daily_sentiment = news_df.groupby('date_only')['sentiment'].mean().reset_index()\n",
    "daily_sentiment.rename(columns={'date_only': 'Date', 'sentiment': 'avg_sentiment'}, inplace=True)\n",
    "\n",
    "# Preview\n",
    "print(daily_sentiment.head())\n"
   ]
  },
  {
   "cell_type": "code",
   "execution_count": 65,
   "id": "b8495a51-df91-40a2-8749-28259a81d55d",
   "metadata": {},
   "outputs": [],
   "source": [
    "# Convert daily_sentiment['Date'] to pandas datetime (with no time info)\n",
    "daily_sentiment['Date'] = pd.to_datetime(daily_sentiment['Date'])\n",
    "\n"
   ]
  },
  {
   "cell_type": "code",
   "execution_count": 66,
   "id": "0a4d87dc-cf63-46b6-a5db-b3c1d454cdc2",
   "metadata": {},
   "outputs": [
    {
     "name": "stdout",
     "output_type": "stream",
     "text": [
      "        Date stock  daily_return  avg_sentiment\n",
      "0 2011-04-27  AAPL     -0.000771       0.000000\n",
      "1 2011-04-28  AAPL     -0.009710       0.125000\n",
      "2 2011-04-29  AAPL      0.009748       0.367550\n",
      "3 2011-05-02  AAPL     -0.010996       0.136444\n",
      "4 2011-05-03  AAPL      0.005545       0.000000\n"
     ]
    }
   ],
   "source": [
    "merged_df = pd.merge(stock_all, daily_sentiment, on='Date', how='inner')\n",
    "print(merged_df[['Date', 'stock', 'daily_return', 'avg_sentiment']].head())\n"
   ]
  },
  {
   "cell_type": "code",
   "execution_count": 67,
   "id": "57a52650-0ad8-43a3-a25d-93f1bcba6fae",
   "metadata": {},
   "outputs": [
    {
     "data": {
      "image/png": "[encoded data removed]",
      "text/plain": [
       "<Figure size 640x480 with 1 Axes>"
      ]
     },
     "metadata": {},
     "output_type": "display_data"
    }
   ],
   "source": [
    "import seaborn as sns\n",
    "import matplotlib.pyplot as plt\n",
    "\n",
    "# Scatter plot\n",
    "sns.scatterplot(data=merged_df, x='avg_sentiment', y='daily_return', alpha=0.5)\n",
    "plt.title('Stock Daily Return vs. News Sentiment')\n",
    "plt.xlabel('Average Sentiment')\n",
    "plt.ylabel('Daily Stock Return')\n",
    "plt.grid(True)\n",
    "plt.show()\n"
   ]
  },
  {
   "cell_type": "code",
   "execution_count": 68,
   "id": "7c1b6404-00a1-4586-897a-e161eef2dac4",
   "metadata": {},
   "outputs": [
    {
     "name": "stdout",
     "output_type": "stream",
     "text": [
      "Correlation between sentiment and daily stock return: 0.0108\n"
     ]
    }
   ],
   "source": [
    "correlation = merged_df['avg_sentiment'].corr(merged_df['daily_return'])\n",
    "print(f\"Correlation between sentiment and daily stock return: {correlation:.4f}\")\n"
   ]
  },
  {
   "cell_type": "code",
   "execution_count": 69,
   "id": "813cf575-bcff-4261-aa0f-227d274cef4d",
   "metadata": {},
   "outputs": [
    {
     "name": "stdout",
     "output_type": "stream",
     "text": [
      "  stock  correlation\n",
      "0  AAPL     0.045359\n",
      "1  AMZN    -0.001526\n",
      "2  GOOG     0.024689\n",
      "3  META    -0.010555\n",
      "4  MSFT     0.028137\n",
      "5  NVDA     0.026733\n",
      "6  TSLA    -0.015817\n"
     ]
    }
   ],
   "source": [
    "correlations = merged_df.groupby('stock')[['avg_sentiment', 'daily_return']].corr().iloc[0::2, -1].reset_index()\n",
    "correlations.columns = ['stock', 'drop', 'correlation']\n",
    "correlations = correlations[['stock', 'correlation']]\n",
    "print(correlations)\n"
   ]
  },
  {
   "cell_type": "code",
   "execution_count": 70,
   "id": "fce5aff2-70ae-4dbc-a594-dcbbb8f07f85",
   "metadata": {},
   "outputs": [
    {
     "name": "stdout",
     "output_type": "stream",
     "text": [
      "Lagged sentiment correlation: -0.0102\n"
     ]
    }
   ],
   "source": [
    "merged_df['lagged_sentiment'] = merged_df.groupby('stock')['avg_sentiment'].shift(1)\n",
    "\n",
    "# Recalculate correlation\n",
    "lagged_corr = merged_df[['daily_return', 'lagged_sentiment']].corr().iloc[0, 1]\n",
    "print(f\"Lagged sentiment correlation: {lagged_corr:.4f}\")\n"
   ]
  },
  {
   "cell_type": "code",
   "execution_count": 71,
   "id": "fe072175-1802-45f7-915f-20f17c24f54a",
   "metadata": {},
   "outputs": [],
   "source": [
    "merged_df['sentiment_3d_avg'] = merged_df.groupby('stock')['avg_sentiment'].rolling(window=3).mean().reset_index(0, drop=True)\n"
   ]
  },
  {
   "cell_type": "code",
   "execution_count": 73,
   "id": "db03457e-240d-42f2-bf33-69eb06acf40b",
   "metadata": {},
   "outputs": [
    {
     "data": {
      "image/png": "[encoded data removed]",
      "text/plain": [
       "<Figure size 640x480 with 1 Axes>"
      ]
     },
     "metadata": {},
     "output_type": "display_data"
    }
   ],
   "source": [
    "import seaborn as sns\n",
    "import matplotlib.pyplot as plt\n",
    "\n",
    "sns.barplot(x='stock', y='correlation', data=correlations)\n",
    "plt.title(\"Correlation Between Sentiment and Daily Return by Stock\")\n",
    "plt.ylabel(\"Correlation Coefficient\")\n",
    "plt.xlabel(\"Stock\")\n",
    "plt.xticks(rotation=45)\n",
    "plt.grid(True)\n",
    "plt.show()\n"
   ]
  },
  {
   "cell_type": "code",
   "execution_count": null,
   "id": "0887c290-dc8d-463c-b25f-d270577c41a1",
   "metadata": {},
   "outputs": [],
   "source": []
  }
 ],
 "metadata": {
  "kernelspec": {
   "display_name": "Python 3 (ipykernel)",
   "language": "python",
   "name": "python3"
  },
  "language_info": {
   "codemirror_mode": {
    "name": "ipython",
    "version": 3
   },
   "file_extension": ".py",
   "mimetype": "text/x-python",
   "name": "python",
   "nbconvert_exporter": "python",
   "pygments_lexer": "ipython3",
   "version": "3.12.0"
  }
 },
 "nbformat": 4,
 "nbformat_minor": 5
}
